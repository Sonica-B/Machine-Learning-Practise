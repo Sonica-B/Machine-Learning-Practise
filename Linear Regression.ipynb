{
 "cells": [
  {
   "cell_type": "markdown",
   "metadata": {},
   "source": [
    "# Regression Analysis\n",
    "\n",
    "Regression analysis is a form of predictive modelling technique which investigates the relationship between a dependant and an independant.\n",
    "variable.\n",
    "\n",
    "- Numpy is used for data manipulation\n",
    "- Pandas is used for data processing \n",
    "- Matplotlib & Seaborn is used for Data Visulization"
   ]
  },
  {
   "cell_type": "code",
   "execution_count": 2,
   "metadata": {},
   "outputs": [],
   "source": [
    "import numpy as np   \n",
    "import pandas as pd\n",
    "import seaborn as sns\n",
    "import matplotlib.pyplot as plt\n",
    "%matplotlib inline"
   ]
  },
  {
   "cell_type": "markdown",
   "metadata": {},
   "source": [
    "## Reading datasets"
   ]
  },
  {
   "cell_type": "code",
   "execution_count": 61,
   "metadata": {},
   "outputs": [
    {
     "name": "stdout",
     "output_type": "stream",
     "text": [
      "(237, 4)\n"
     ]
    },
    {
     "data": {
      "text/html": [
       "<div>\n",
       "<style scoped>\n",
       "    .dataframe tbody tr th:only-of-type {\n",
       "        vertical-align: middle;\n",
       "    }\n",
       "\n",
       "    .dataframe tbody tr th {\n",
       "        vertical-align: top;\n",
       "    }\n",
       "\n",
       "    .dataframe thead th {\n",
       "        text-align: right;\n",
       "    }\n",
       "</style>\n",
       "<table border=\"1\" class=\"dataframe\">\n",
       "  <thead>\n",
       "    <tr style=\"text-align: right;\">\n",
       "      <th></th>\n",
       "      <th>Gender</th>\n",
       "      <th>Age Range</th>\n",
       "      <th>Head Size(cm^3)</th>\n",
       "      <th>Brain Weight(grams)</th>\n",
       "    </tr>\n",
       "  </thead>\n",
       "  <tbody>\n",
       "    <tr>\n",
       "      <th>0</th>\n",
       "      <td>1</td>\n",
       "      <td>1</td>\n",
       "      <td>4512</td>\n",
       "      <td>1530</td>\n",
       "    </tr>\n",
       "    <tr>\n",
       "      <th>1</th>\n",
       "      <td>1</td>\n",
       "      <td>1</td>\n",
       "      <td>3738</td>\n",
       "      <td>1297</td>\n",
       "    </tr>\n",
       "    <tr>\n",
       "      <th>2</th>\n",
       "      <td>1</td>\n",
       "      <td>1</td>\n",
       "      <td>4261</td>\n",
       "      <td>1335</td>\n",
       "    </tr>\n",
       "    <tr>\n",
       "      <th>3</th>\n",
       "      <td>1</td>\n",
       "      <td>1</td>\n",
       "      <td>3777</td>\n",
       "      <td>1282</td>\n",
       "    </tr>\n",
       "    <tr>\n",
       "      <th>4</th>\n",
       "      <td>1</td>\n",
       "      <td>1</td>\n",
       "      <td>4177</td>\n",
       "      <td>1590</td>\n",
       "    </tr>\n",
       "  </tbody>\n",
       "</table>\n",
       "</div>"
      ],
      "text/plain": [
       "   Gender  Age Range  Head Size(cm^3)  Brain Weight(grams)\n",
       "0       1          1             4512                 1530\n",
       "1       1          1             3738                 1297\n",
       "2       1          1             4261                 1335\n",
       "3       1          1             3777                 1282\n",
       "4       1          1             4177                 1590"
      ]
     },
     "execution_count": 61,
     "metadata": {},
     "output_type": "execute_result"
    }
   ],
   "source": [
    "data = pd.read_csv('headbrain.csv')\n",
    "print(data.shape)\n",
    "data.head()"
   ]
  },
  {
   "cell_type": "markdown",
   "metadata": {},
   "source": [
    "## Finding a Linear Relation between Head size & Brain weight\n",
    "### Using Least Square Method\n",
    "Storing values in variables"
   ]
  },
  {
   "cell_type": "code",
   "execution_count": 62,
   "metadata": {},
   "outputs": [],
   "source": [
    "x = data['Head Size(cm^3)'].values\n",
    "y = data['Brain Weight(grams)'].values"
   ]
  },
  {
   "cell_type": "markdown",
   "metadata": {},
   "source": [
    "## Using the formula $y = mx +c$\n",
    "Fiznding the variables m & c"
   ]
  },
  {
   "cell_type": "code",
   "execution_count": 63,
   "metadata": {},
   "outputs": [],
   "source": [
    "# Calculating mean\n",
    "x_mean = np.mean(x)    # x value\n",
    "y_mean = np.mean(y)    # y value\n",
    "\n",
    "# Total values\n",
    "total = len(x)"
   ]
  },
  {
   "cell_type": "markdown",
   "metadata": {},
   "source": [
    "Formula \n",
    "### $m = \\frac {Σ (x - mean_x)(y - mean_y) }{ Σ (x - mean_x)^{2}}$\n",
    "\n",
    "Applying formula to find m & c values"
   ]
  },
  {
   "cell_type": "code",
   "execution_count": 64,
   "metadata": {},
   "outputs": [
    {
     "name": "stdout",
     "output_type": "stream",
     "text": [
      "m = 0.26342933948939945 \n",
      "c = 325.57342104944223\n"
     ]
    }
   ],
   "source": [
    "num = 0\n",
    "den = 0\n",
    "\n",
    "for i in range(total):\n",
    "    num += (x[i] - x_mean) * (y[i] - y_mean)\n",
    "    den += (x[i] - x_mean)**2\n",
    "\n",
    "m = num/den\n",
    "\n",
    "c = y_mean - (m * x_mean)\n",
    "\n",
    "print(\"m = {} \\nc = {}\".format(m,c))"
   ]
  },
  {
   "cell_type": "markdown",
   "metadata": {},
   "source": [
    "## Plotting Values & Regression Line"
   ]
  },
  {
   "cell_type": "code",
   "execution_count": 68,
   "metadata": {},
   "outputs": [
    {
     "name": "stderr",
     "output_type": "stream",
     "text": [
      "<ipython-input-68-f064cb622c05>:22: MatplotlibDeprecationWarning: Adding an axes using the same arguments as a previous axes currently reuses the earlier instance.  In a future version, a new instance will always be created and returned.  Meanwhile, this warning can be suppressed, and the future behavior ensured, by passing a unique label to each axes instance.\n",
      "  ax = plt.axes()\n"
     ]
    },
    {
     "data": {
      "image/png": "[encoded data removed]",
      "text/plain": [
       "<Figure size 432x288 with 1 Axes>"
      ]
     },
     "metadata": {},
     "output_type": "display_data"
    }
   ],
   "source": [
    "max_x = np.max(x) + 100  # X axis\n",
    "min_x = np.min(x) - 100  # Y axis\n",
    "\n",
    "# Calculating Line Values X & Y \n",
    "X = np.linspace(min_x, max_x, 1000)\n",
    "Y = (m * X) + c\n",
    "\n",
    "plt.figure(facecolor='black')   # Changing Inner background\n",
    "\n",
    "# Plotting Line \n",
    "plt.plot(X, Y, color = 'yellow', label = \"Regression Line\")\n",
    "\n",
    "# Plotting points - Scatter Plot\n",
    "plt.scatter(x, y, color = '#ef5423', label = \"Scatter Plot\")\n",
    "\n",
    "# Labling axes\n",
    "plt.xlabel('Head Size (cm^3)', fontsize = 'large', fontweight = 'bold')\n",
    "plt.ylabel('Brain Weight (grams)',  fontsize = 'large', fontweight = 'bold')\n",
    "\n",
    "\n",
    "# Changing color of the graph\n",
    "ax = plt.axes()                   \n",
    "ax.set_facecolor(\"black\")                 # Outter background\n",
    "ax.spines['bottom'].set_color('red')      # Bottom Scale-Line\n",
    "ax.spines['left'].set_color('red')        # Left Scale-Line\n",
    "ax.tick_params(axis='x', colors='white')  # Scale Values on X axis\n",
    "ax.tick_params(axis='y', colors='white')  # Scale Values on Y axis\n",
    "ax.yaxis.label.set_color('red')           # Lable on Y axis\n",
    "ax.xaxis.label.set_color('red')           # Lable on X axis\n",
    "\n",
    "plt.legend()\n",
    "plt.show()"
   ]
  },
  {
   "cell_type": "markdown",
   "metadata": {},
   "source": [
    "## Calculating $R^{2}$\n",
    "### $R^{2}= 1-\\frac{Σ(pred_y - mean_y)^{2}}{Σ(y - mean_y)^{2}}$"
   ]
  },
  {
   "cell_type": "code",
   "execution_count": 69,
   "metadata": {},
   "outputs": [
    {
     "name": "stdout",
     "output_type": "stream",
     "text": [
      "0.6393117199570003\n"
     ]
    }
   ],
   "source": [
    "numerator = 0\n",
    "denomenator = 0\n",
    "\n",
    "for i in range(total):\n",
    "    y_pred = (m * x[i]) + c\n",
    "    denomenator += (y[i] - y_mean)**2\n",
    "    numerator += (y[i] - y_pred)**2\n",
    "\n",
    "r2 = 1 - (numerator/denomenator)\n",
    "print(r2)"
   ]
  },
  {
   "cell_type": "markdown",
   "metadata": {},
   "source": [
    "The Value obtained of $R^{2}$ is < 1. \\\n",
    "Therefore it is a good model."
   ]
  },
  {
   "cell_type": "markdown",
   "metadata": {},
   "source": [
    "## Using Scikit-Learn\n",
    "\n",
    "This library is mostly used for Supervised Learning Algorithms. \\\n",
    "It allows us to create models like :\n",
    "- Classification\n",
    "- Regression \n",
    "- Clustering\n",
    "\n",
    "It is also used for employing techniques to reduce overfitting like \n",
    "- K-fold cross validation \n",
    "- Putting data on same scale"
   ]
  },
  {
   "cell_type": "code",
   "execution_count": 1,
   "metadata": {},
   "outputs": [],
   "source": [
    "# scikit learn has many ML algorithms\n",
    "from sklearn.linear_model import LinearRegression\n",
    "\n",
    "# this helps to split data for modeling\n",
    "from sklearn.model_selection import train_test_split"
   ]
  },
  {
   "cell_type": "code",
   "execution_count": null,
   "metadata": {},
   "outputs": [],
   "source": []
  }
 ],
 "metadata": {
  "kernelspec": {
   "display_name": "Python 3",
   "language": "python",
   "name": "python3"
  },
  "language_info": {
   "codemirror_mode": {
    "name": "ipython",
    "version": 3
   },
   "file_extension": ".py",
   "mimetype": "text/x-python",
   "name": "python",
   "nbconvert_exporter": "python",
   "pygments_lexer": "ipython3",
   "version": "3.8.5"
  }
 },
 "nbformat": 4,
 "nbformat_minor": 4
}
